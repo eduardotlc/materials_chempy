{
 "cells": [
  {
   "cell_type": "code",
   "execution_count": 2,
   "metadata": {
    "jukit_cell_id": "rRDe7wdzEN"
   },
   "outputs": [
    {
     "name": "stdout",
     "output_type": "stream",
     "text": [
      "7\n"
     ]
    }
   ],
   "source": [
    "import pandas as pd\n",
    "import materials_chempy.utils as mcpyut\n",
    "import materials_chempy.database_analysis.dban_functions as dbanmcpy\n",
    "\n",
    "x = ['2015-01', '2015-02-01', '2015-03-01', '2015-04-01',\n",
    "    '2015-06-01', '2015-07-01', '2015-08-01', '2015-09-01',\n",
    "        '2015-10-01', '2015-11-01', '2015-12-01']\n",
    "y = [136, 126, 122, 135, 154, 178, 187, 149, 125, 120, 120]\n",
    "df = pd.DataFrame({'date': x,\n",
    "                   'articles': y})\n",
    "# df = dbanmcpy.df_statistics(df)\n",
    "if len(df.date[0]) > 0:\n",
    "    print(len(df.date[0]))"
   ]
  },
  {
   "cell_type": "code",
   "execution_count": 3,
   "metadata": {
    "jukit_cell_id": "2wERAFRR82"
   },
   "outputs": [
    {
     "name": "stdout",
     "output_type": "stream",
     "text": [
      "Matching positions: [0, 2, 3, 4]\n"
     ]
    }
   ],
   "source": [
    "def find_matching_positions(string1, string2):\n",
    "    matching_positions = []\n",
    "\n",
    "    # Make sure both strings are of the same length\n",
    "    if len(string1) != len(string2):\n",
    "        raise ValueError(\"Both strings must have the same length\")\n",
    "\n",
    "    for i in range(len(string1)):\n",
    "        if string1[i] == string2[i]:\n",
    "            matching_positions.append(i)\n",
    "\n",
    "    return matching_positions\n",
    "\n",
    "# Example usage\n",
    "string1 = \"hello\"\n",
    "string2 = \"hallo\"\n",
    "positions = find_matching_positions(string1, string2)\n",
    "print(\"Matching positions:\", positions)"
   ]
  },
  {
   "cell_type": "code",
   "execution_count": 4,
   "metadata": {
    "jukit_cell_id": "AJBfduICya"
   },
   "outputs": [
    {
     "name": "stdout",
     "output_type": "stream",
     "text": [
      "Year: 11\n"
     ]
    }
   ],
   "source": [
    "def extract_year_from_date(date_str):\n",
    "    try:\n",
    "        # Split the date string using \"-\"\n",
    "        parts = date_str.split(\"-\")\n",
    "\n",
    "        # Ensure that the date string has three parts (day, month, year)\n",
    "        if len(parts) != 3:\n",
    "            raise ValueError(\"Invalid date format\")\n",
    "\n",
    "        # Extract the year part and convert it to an integer\n",
    "        year = int(parts[2])\n",
    "\n",
    "        return year\n",
    "    except ValueError as e:\n",
    "        return str(e)\n",
    "\n",
    "# Example usage\n",
    "date_str = \"2023-04-11\"\n",
    "year = extract_year_from_date(date_str)\n",
    "if isinstance(year, int):\n",
    "    print(\"Year:\", year)\n",
    "else:\n",
    "    print(\"Error:\", year)"
   ]
  },
  {
   "cell_type": "code",
   "execution_count": 5,
   "metadata": {
    "jukit_cell_id": "DrcxpKvjJq"
   },
   "outputs": [
    {
     "name": "stdout",
     "output_type": "stream",
     "text": [
      "2015\n",
      "2015\n"
     ]
    }
   ],
   "source": [
    "col = ['2015-01-01', '2015-02-01']\n",
    "for date in col:\n",
    "    if len(date) > 8:\n",
    "        parts = date.split(\"-\")\n",
    "        for values in parts:\n",
    "            if len(values) == 4:\n",
    "                print(values)"
   ]
  },
  {
   "cell_type": "code",
   "execution_count": 7,
   "metadata": {
    "jukit_cell_id": "M7BEwxCUNF"
   },
   "outputs": [
    {
     "name": "stdout",
     "output_type": "stream",
     "text": [
      "2 different years: 2015 and 2016\n",
      "2 different years: 2016 and 2015\n"
     ]
    },
    {
     "ename": "IndexError",
     "evalue": "list index out of range",
     "output_type": "error",
     "traceback": [
      "\u001b[0;31m---------------------------------------------------------------------------\u001b[0m",
      "\u001b[0;31mIndexError\u001b[0m                                Traceback (most recent call last)",
      "Cell \u001b[0;32mIn[7], line 15\u001b[0m\n\u001b[1;32m     13\u001b[0m                     date_years\u001b[38;5;241m.\u001b[39mappend(values)\n\u001b[1;32m     14\u001b[0m \u001b[38;5;28;01mwhile\u001b[39;00m n2 \u001b[38;5;241m<\u001b[39m \u001b[38;5;28mlen\u001b[39m(date_years):\n\u001b[0;32m---> 15\u001b[0m     temp_match \u001b[38;5;241m=\u001b[39m find_matching_positions(date_years[n2], \u001b[43mdate_years\u001b[49m\u001b[43m[\u001b[49m\u001b[43m(\u001b[49m\u001b[43mn2\u001b[49m\u001b[38;5;241;43m+\u001b[39;49m\u001b[38;5;241;43m1\u001b[39;49m\u001b[43m)\u001b[49m\u001b[43m]\u001b[49m)\n\u001b[1;32m     16\u001b[0m     \u001b[38;5;28;01mif\u001b[39;00m \u001b[38;5;28mlen\u001b[39m(temp_match) \u001b[38;5;241m<\u001b[39m \u001b[38;5;241m4\u001b[39m:\n\u001b[1;32m     17\u001b[0m         \u001b[38;5;28mprint\u001b[39m(\u001b[38;5;124mf\u001b[39m\u001b[38;5;124m'\u001b[39m\u001b[38;5;124m2 different years: \u001b[39m\u001b[38;5;132;01m{\u001b[39;00mdate_years[n2]\u001b[38;5;132;01m}\u001b[39;00m\u001b[38;5;124m and \u001b[39m\u001b[38;5;132;01m{\u001b[39;00mdate_years[n2\u001b[38;5;241m+\u001b[39m\u001b[38;5;241m1\u001b[39m]\u001b[38;5;132;01m}\u001b[39;00m\u001b[38;5;124m'\u001b[39m)\n",
      "\u001b[0;31mIndexError\u001b[0m: list index out of range"
     ]
    }
   ],
   "source": [
    "col = ['2015-01-01', '2015-02-01', '2015-03-01', '2015-04-01', '2015-05-01',\n",
    "       '2015-06-01', '2016-07-01', '2015-08-01']\n",
    "n = 0\n",
    "n2 = 0\n",
    "date_years = []\n",
    "while n < 6:\n",
    "    for date in col:\n",
    "        if len(date) > 8:\n",
    "            parts = date.split(\"-\")\n",
    "            for values in parts:\n",
    "                if len(values) == 4:\n",
    "                    n = n + 1\n",
    "                    date_years.append(values)\n",
    "while n2 < len(date_years):\n",
    "    temp_match = find_matching_positions(date_years[n2], date_years[(n2+1)])\n",
    "    if len(temp_match) < 4:\n",
    "        print(f'2 different years: {date_years[n2]} and {date_years[n2+1]}')\n",
    "    n2 = n2 + 1\n",
    "print(date_years)"
   ]
  },
  {
   "cell_type": "code",
   "execution_count": null,
   "metadata": {
    "jukit_cell_id": "7IHiiMUEZJ"
   },
   "outputs": [],
   "source": [
    "col = ['2015-01-01', '2015-02-01', '2015-03-01', '2015-04-01', '2015-05-01',\n",
    "       '2015-06-01', '2016-07-01', '2015-08-01']\n",
    "\n",
    "n = 0\n",
    "df = pd.DataFrame({'date_years': [],\n",
    "                    'values': []})\n",
    "date_years = []\n",
    "values_list = []\n",
    "\n",
    "df_date_split = pd.DataFrame({'1': [],\n",
    "                              '2': [],\n",
    "                              '3': []})\n",
    "while n < 6:\n",
    "    for date in col:\n",
    "        if len(date) > 8:\n",
    "            parts = date.split(\"-\")\n",
    "            if len(parts) == 3:\n",
    "\n",
    "                # df_date_split = pd.DataFrame({'1': [],\n",
    "                                              # '2': [],\n",
    "                                              # '3': []})\n",
    "                # for values in parts:\n",
    "                df_date_split.loc[len(df_date_split)] = [parts[0], parts[1], parts[2]]\n",
    "\n",
    "            df_date_split\n",
    "            for values in parts:\n",
    "                # values_list.append(values)\n",
    "            # for sep_dates in values_list:\n",
    "                # if len(sep_dates) == 4:\n",
    "                if len(values) == 4:\n",
    "                    df.loc[len(df)] = [values, n]\n",
    "                    # date_years.append(values)\n",
    "                    # print(values_list)\n",
    "                    # print(values)\n",
    "                    n = n + 1\n",
    "    date_years = mcpyut.remove_duplicates(df['date_years'])\n",
    "    print(date_years)\n",
    "    # print(f'Date Years {date_years}')\n",
    "    print(df)\n",
    "    print(df_date_split)\n",
    "                # if len(values) = 4:\n",
    "                    # n = n + 1\n",
    "                    # date_years.append(values)\n",
    "            # find_matching_positions(col[0], col[1])"
   ]
  },
  {
   "cell_type": "code",
   "execution_count": null,
   "metadata": {
    "jukit_cell_id": "2lWmU1Eql1"
   },
   "outputs": [],
   "source": [
    "col = ['2015-01-01', '2015-02-01', '2015-03-01', '2015-04-01', '2015-05-01',\n",
    "       '2015-06-01', '2016-07-01', '2015-08-01']\n",
    "\n",
    "n = 0\n",
    "df = pd.DataFrame({'date_years': [],\n",
    "                    'values': []})\n",
    "date_years = []\n",
    "values_list = []\n",
    "\n",
    "df_date_split = pd.DataFrame({'1': [],\n",
    "                              '2': [],\n",
    "                              '3': []})\n",
    "while n < 6:\n",
    "    for date in col:\n",
    "        if len(date) > 8:\n",
    "            parts = date.split(\"-\")\n",
    "            if len(parts) == 3:\n",
    "\n",
    "                df_date_split.loc[len(df_date_split)] = [parts[0], parts[1], parts[2]]\n",
    "\n",
    "            for values in parts:\n",
    "                if len(values) == 4:\n",
    "                    print(values)\n",
    "                    # mask = df['date_years'] == str(values)\n",
    "                    df.loc[len(df)] = [values, n]\n",
    "                    # df = df[~mask]\n",
    "                    # date_years.append(values)\n",
    "                    # print(values_list)\n",
    "                    # print(values)\n",
    "                    n = n + 1\n",
    "    mask = df['date_years'] == '2015'\n",
    "    df = df[~mask]\n",
    "    date_years = mcpyut.remove_duplicates(df['date_years'])\n",
    "    print(date_years)\n",
    "    # print(f'Date Years {date_years}')\n",
    "    print(df)\n",
    "    print(df_date_split)\n",
    "                # if len(values) = 4:\n",
    "                    # n = n + 1\n",
    "                    # date_years.append(values)\n",
    "            # find_matching_positions(col[-1], col[1])"
   ]
  },
  {
   "cell_type": "code",
   "execution_count": 6,
   "metadata": {
    "jukit_cell_id": "tgTDJsgNpq"
   },
   "outputs": [
    {
     "ename": "NameError",
     "evalue": "name 'df_date_split' is not defined",
     "output_type": "error",
     "traceback": [
      "\u001b[0;31m---------------------------------------------------------------------------\u001b[0m",
      "\u001b[0;31mNameError\u001b[0m                                 Traceback (most recent call last)",
      "Cell \u001b[0;32mIn[6], line 21\u001b[0m\n\u001b[1;32m     18\u001b[0m parts \u001b[38;5;241m=\u001b[39m date\u001b[38;5;241m.\u001b[39msplit(\u001b[38;5;124m\"\u001b[39m\u001b[38;5;124m-\u001b[39m\u001b[38;5;124m\"\u001b[39m)\n\u001b[1;32m     19\u001b[0m \u001b[38;5;28;01mif\u001b[39;00m \u001b[38;5;28mlen\u001b[39m(parts) \u001b[38;5;241m==\u001b[39m \u001b[38;5;241m3\u001b[39m:\n\u001b[0;32m---> 21\u001b[0m     df_date_split_3\u001b[38;5;241m.\u001b[39mloc[\u001b[38;5;28mlen\u001b[39m(\u001b[43mdf_date_split\u001b[49m)] \u001b[38;5;241m=\u001b[39m [parts[\u001b[38;5;241m0\u001b[39m],\n\u001b[1;32m     22\u001b[0m                                                parts[\u001b[38;5;241m1\u001b[39m], parts[\u001b[38;5;241m2\u001b[39m]]\n\u001b[1;32m     24\u001b[0m \u001b[38;5;28;01mfor\u001b[39;00m values \u001b[38;5;129;01min\u001b[39;00m parts:\n\u001b[1;32m     25\u001b[0m     \u001b[38;5;28;01mif\u001b[39;00m \u001b[38;5;28mlen\u001b[39m(values) \u001b[38;5;241m==\u001b[39m \u001b[38;5;241m4\u001b[39m:\n",
      "\u001b[0;31mNameError\u001b[0m: name 'df_date_split' is not defined"
     ]
    }
   ],
   "source": [
    "col = ['2015-01-01', '2015-02-01', '2015-03-01', '2015-04-01', '2015-05-01',\n",
    "       '2015-06-01', '2016-07-01', '2015-08-01']\n",
    "\n",
    "n = 0\n",
    "df = pd.DataFrame({'date_years': [],\n",
    "                    'values': []})\n",
    "date_years = []\n",
    "values_list = []\n",
    "\n",
    "df_date_split_3 = pd.DataFrame({'1': [],\n",
    "                              '2': [],\n",
    "                              '3': []})\n",
    "df_date_split_2 = pd.DataFrame({'1': [],\n",
    "                                '2': []})\n",
    "while n < 6:\n",
    "    for date in col:\n",
    "        if len(date) > 8:\n",
    "            parts = date.split(\"-\")\n",
    "            if len(parts) == 3:\n",
    "\n",
    "                df_date_split_3.loc[len(df_date_split)] = [parts[0],\n",
    "                                                           parts[1], parts[2]]\n",
    "\n",
    "            for values in parts:\n",
    "                if len(values) == 4:\n",
    "                    print(values)\n",
    "                    df.loc[len(df)] = [values, n]\n",
    "                    n = n + 1\n",
    "    date_years = mcpyut.remove_duplicates(df['date_years'])\n",
    "    print(date_years)\n",
    "    # print(f'Date Years {date_years}')\n",
    "    print(df)\n",
    "    print(df_date_split)\n",
    "                # if len(values) = 4:\n",
    "                    # n = n + 1\n",
    "                    # date_years.append(values)\n",
    "            # find_matching_positions(col[-1], col[1])"
   ]
  },
  {
   "cell_type": "code",
   "execution_count": null,
   "metadata": {},
   "outputs": [],
   "source": []
  }
 ],
 "metadata": {
  "anaconda-cloud": {},
  "kernelspec": {
   "display_name": "materials_chempy",
   "language": "python",
   "name": "materials_chempy"
  },
  "language_info": {
   "codemirror_mode": {
    "name": "ipython",
    "version": 3
   },
   "file_extension": ".py",
   "mimetype": "text/x-python",
   "name": "python",
   "nbconvert_exporter": "python",
   "pygments_lexer": "ipython3",
   "version": "3.11.6"
  },
  "widgets": {
   "application/vnd.jupyter.widget-state+json": {
    "state": {},
    "version_major": 2,
    "version_minor": 0
   }
  }
 },
 "nbformat": 4,
 "nbformat_minor": 4
}
