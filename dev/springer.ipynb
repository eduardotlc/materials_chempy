{
 "cells": [
  {
   "cell_type": "code",
   "execution_count": 24,
   "metadata": {},
   "outputs": [
    {
     "name": "stdout",
     "output_type": "stream",
     "text": [
      "2010:  536\n",
      "2011:  845\n",
      "2012:  1323\n",
      "2013:  2347\n",
      "2014:  2530\n",
      "2015:  2964\n",
      "2016:  3155\n",
      "2017:  3300\n",
      "2018:  3301\n",
      "2019:  3383\n",
      "2020:  3744\n",
      "2021:  4059\n",
      "2022:  4722\n",
      "2023:  4905\n",
      "    year  articles\n",
      "0   2010       536\n",
      "1   2011       845\n",
      "2   2012      1323\n",
      "3   2013      2347\n",
      "4   2014      2530\n",
      "5   2015      2964\n",
      "6   2016      3155\n",
      "7   2017      3300\n",
      "8   2018      3301\n",
      "9   2019      3383\n",
      "10  2020      3744\n",
      "11  2021      4059\n",
      "12  2022      4722\n",
      "13  2023      4905\n"
     ]
    }
   ],
   "source": [
    "import unittest\n",
    "import requests\n",
    "import json\n",
    "import csv\n",
    "import os\n",
    "import pandas as pd\n",
    "import numpy as np\n",
    "springer_api_key = \"56580f5684a4934af904f1edf8f07706\"\n",
    "base_url_springer = 'http://api.springer.com/metadata/json'\n",
    "keyword = 'Plasmonic'\n",
    "year_1 = 2010\n",
    "year_2 = 2023\n",
    "date_list = np.arange(year_1, year_2 + 1, 1)\n",
    "url_params_springer = {}\n",
    "url_params_springer[\"api_key\"] = springer_api_key\n",
    "url_params_springer[\"p\"] = 200   #10 results will be returned\n",
    "df = pd.DataFrame({'year': [],\n",
    "                   'articles': []})\n",
    "for date_int in date_list:\n",
    "    springer_keyword = \"?q=(\"+ \"%22\" + keyword.replace(\" \", \"%20\") + \"%22\" + \"%20AND%20year:\" + str(date_int) + \")\"\n",
    "\n",
    "# Building the Springer Metadata API parameters dictionary\n",
    "    d_springer = requests.get(base_url_springer + springer_keyword,\n",
    "                              params=url_params_springer).json()\n",
    "    articles = pd.DataFrame([d_springer])\n",
    "    articles = articles.result\n",
    "    articles = articles[0]\n",
    "    articles = pd.DataFrame(articles)\n",
    "    articles = int(articles.total[0])\n",
    "    print(f'{date_int}:  {articles}')\n",
    "    df.loc[len(df)] = [date_int, articles]\n",
    "print(df)"
   ]
  }
 ],
 "metadata": {
  "language_info": {
   "name": "python"
  }
 },
 "nbformat": 4,
 "nbformat_minor": 2
}
